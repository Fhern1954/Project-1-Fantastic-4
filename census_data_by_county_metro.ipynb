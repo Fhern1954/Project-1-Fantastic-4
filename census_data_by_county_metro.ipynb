{
 "cells": [
  {
   "cell_type": "code",
   "execution_count": 1,
   "metadata": {},
   "outputs": [],
   "source": [
    "import requests\n",
    "import pandas as pd\n",
    "from pprint import pprint\n"
   ]
  },
  {
   "cell_type": "code",
   "execution_count": 14,
   "metadata": {},
   "outputs": [],
   "source": [
    "#Census data by county and state using census API\n",
    "\n",
    "url = 'http://api.census.gov/data/2019/pep/population?get=COUNTY,DENSITY,POP,NAME,STATE&for=county:*&key=6a2106e3c2f11754ccb4d218d7aa0ab5502c5c95'\n",
    "\n",
    "response = requests.get(url).json()\n",
    "# pprint(response)\n",
    "countystate = []\n",
    "density = []\n",
    "pop = []\n",
    "countyfips = []\n",
    "\n",
    "\n",
    "\n",
    "for elements in response[1:]:\n",
    "    \n",
    "    pop.append(elements[2])\n",
    "    county_fips = elements[5]+elements[6]\n",
    "    countyfips.append(county_fips)\n",
    "\n",
    "census_by_county_df =  pd.DataFrame({\"countyFIPS\": countyfips,\n",
    "                                      \"Population\":pop,\n",
    "                                       })   \n",
    "\n",
    "census_by_county_df\n",
    "\n",
    "census_by_county_df.to_csv(\"census_by_county.csv\")\n"
   ]
  },
  {
   "cell_type": "code",
   "execution_count": null,
   "metadata": {},
   "outputs": [],
   "source": []
  }
 ],
 "metadata": {
  "kernelspec": {
   "display_name": "Python [conda env:PythonData] *",
   "language": "python",
   "name": "conda-env-PythonData-py"
  },
  "language_info": {
   "codemirror_mode": {
    "name": "ipython",
    "version": 3
   },
   "file_extension": ".py",
   "mimetype": "text/x-python",
   "name": "python",
   "nbconvert_exporter": "python",
   "pygments_lexer": "ipython3",
   "version": "3.6.10"
  }
 },
 "nbformat": 4,
 "nbformat_minor": 4
}
