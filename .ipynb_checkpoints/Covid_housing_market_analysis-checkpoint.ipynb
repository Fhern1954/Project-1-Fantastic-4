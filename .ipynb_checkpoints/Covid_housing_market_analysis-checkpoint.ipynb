{
 "cells": [
  {
   "cell_type": "code",
   "execution_count": 1,
   "metadata": {},
   "outputs": [],
   "source": [
    "import quandl\n",
    "import pandas as pd\n",
    "import requests\n",
    "import numpy as np\n",
    "from pprint import pprint\n"
   ]
  },
  {
   "cell_type": "code",
   "execution_count": 2,
   "metadata": {},
   "outputs": [
    {
     "ename": "FileNotFoundError",
     "evalue": "[Errno 2] File weekly_housing_market_data_most_recent.tsv does not exist: 'weekly_housing_market_data_most_recent.tsv'",
     "output_type": "error",
     "traceback": [
      "\u001b[1;31m---------------------------------------------------------------------------\u001b[0m",
      "\u001b[1;31mFileNotFoundError\u001b[0m                         Traceback (most recent call last)",
      "\u001b[1;32m<ipython-input-2-d73658b48656>\u001b[0m in \u001b[0;36m<module>\u001b[1;34m\u001b[0m\n\u001b[1;32m----> 1\u001b[1;33m \u001b[0mdata_df\u001b[0m \u001b[1;33m=\u001b[0m \u001b[0mpd\u001b[0m\u001b[1;33m.\u001b[0m\u001b[0mread_csv\u001b[0m\u001b[1;33m(\u001b[0m\u001b[1;34m'weekly_housing_market_data_most_recent.tsv'\u001b[0m\u001b[1;33m,\u001b[0m\u001b[1;33m)\u001b[0m\u001b[1;33m\u001b[0m\u001b[1;33m\u001b[0m\u001b[0m\n\u001b[0m",
      "\u001b[1;32m~\\anaconda4\\envs\\PythonData\\lib\\site-packages\\pandas\\io\\parsers.py\u001b[0m in \u001b[0;36mparser_f\u001b[1;34m(filepath_or_buffer, sep, delimiter, header, names, index_col, usecols, squeeze, prefix, mangle_dupe_cols, dtype, engine, converters, true_values, false_values, skipinitialspace, skiprows, skipfooter, nrows, na_values, keep_default_na, na_filter, verbose, skip_blank_lines, parse_dates, infer_datetime_format, keep_date_col, date_parser, dayfirst, cache_dates, iterator, chunksize, compression, thousands, decimal, lineterminator, quotechar, quoting, doublequote, escapechar, comment, encoding, dialect, error_bad_lines, warn_bad_lines, delim_whitespace, low_memory, memory_map, float_precision)\u001b[0m\n\u001b[0;32m    674\u001b[0m         )\n\u001b[0;32m    675\u001b[0m \u001b[1;33m\u001b[0m\u001b[0m\n\u001b[1;32m--> 676\u001b[1;33m         \u001b[1;32mreturn\u001b[0m \u001b[0m_read\u001b[0m\u001b[1;33m(\u001b[0m\u001b[0mfilepath_or_buffer\u001b[0m\u001b[1;33m,\u001b[0m \u001b[0mkwds\u001b[0m\u001b[1;33m)\u001b[0m\u001b[1;33m\u001b[0m\u001b[1;33m\u001b[0m\u001b[0m\n\u001b[0m\u001b[0;32m    677\u001b[0m \u001b[1;33m\u001b[0m\u001b[0m\n\u001b[0;32m    678\u001b[0m     \u001b[0mparser_f\u001b[0m\u001b[1;33m.\u001b[0m\u001b[0m__name__\u001b[0m \u001b[1;33m=\u001b[0m \u001b[0mname\u001b[0m\u001b[1;33m\u001b[0m\u001b[1;33m\u001b[0m\u001b[0m\n",
      "\u001b[1;32m~\\anaconda4\\envs\\PythonData\\lib\\site-packages\\pandas\\io\\parsers.py\u001b[0m in \u001b[0;36m_read\u001b[1;34m(filepath_or_buffer, kwds)\u001b[0m\n\u001b[0;32m    446\u001b[0m \u001b[1;33m\u001b[0m\u001b[0m\n\u001b[0;32m    447\u001b[0m     \u001b[1;31m# Create the parser.\u001b[0m\u001b[1;33m\u001b[0m\u001b[1;33m\u001b[0m\u001b[1;33m\u001b[0m\u001b[0m\n\u001b[1;32m--> 448\u001b[1;33m     \u001b[0mparser\u001b[0m \u001b[1;33m=\u001b[0m \u001b[0mTextFileReader\u001b[0m\u001b[1;33m(\u001b[0m\u001b[0mfp_or_buf\u001b[0m\u001b[1;33m,\u001b[0m \u001b[1;33m**\u001b[0m\u001b[0mkwds\u001b[0m\u001b[1;33m)\u001b[0m\u001b[1;33m\u001b[0m\u001b[1;33m\u001b[0m\u001b[0m\n\u001b[0m\u001b[0;32m    449\u001b[0m \u001b[1;33m\u001b[0m\u001b[0m\n\u001b[0;32m    450\u001b[0m     \u001b[1;32mif\u001b[0m \u001b[0mchunksize\u001b[0m \u001b[1;32mor\u001b[0m \u001b[0miterator\u001b[0m\u001b[1;33m:\u001b[0m\u001b[1;33m\u001b[0m\u001b[1;33m\u001b[0m\u001b[0m\n",
      "\u001b[1;32m~\\anaconda4\\envs\\PythonData\\lib\\site-packages\\pandas\\io\\parsers.py\u001b[0m in \u001b[0;36m__init__\u001b[1;34m(self, f, engine, **kwds)\u001b[0m\n\u001b[0;32m    878\u001b[0m             \u001b[0mself\u001b[0m\u001b[1;33m.\u001b[0m\u001b[0moptions\u001b[0m\u001b[1;33m[\u001b[0m\u001b[1;34m\"has_index_names\"\u001b[0m\u001b[1;33m]\u001b[0m \u001b[1;33m=\u001b[0m \u001b[0mkwds\u001b[0m\u001b[1;33m[\u001b[0m\u001b[1;34m\"has_index_names\"\u001b[0m\u001b[1;33m]\u001b[0m\u001b[1;33m\u001b[0m\u001b[1;33m\u001b[0m\u001b[0m\n\u001b[0;32m    879\u001b[0m \u001b[1;33m\u001b[0m\u001b[0m\n\u001b[1;32m--> 880\u001b[1;33m         \u001b[0mself\u001b[0m\u001b[1;33m.\u001b[0m\u001b[0m_make_engine\u001b[0m\u001b[1;33m(\u001b[0m\u001b[0mself\u001b[0m\u001b[1;33m.\u001b[0m\u001b[0mengine\u001b[0m\u001b[1;33m)\u001b[0m\u001b[1;33m\u001b[0m\u001b[1;33m\u001b[0m\u001b[0m\n\u001b[0m\u001b[0;32m    881\u001b[0m \u001b[1;33m\u001b[0m\u001b[0m\n\u001b[0;32m    882\u001b[0m     \u001b[1;32mdef\u001b[0m \u001b[0mclose\u001b[0m\u001b[1;33m(\u001b[0m\u001b[0mself\u001b[0m\u001b[1;33m)\u001b[0m\u001b[1;33m:\u001b[0m\u001b[1;33m\u001b[0m\u001b[1;33m\u001b[0m\u001b[0m\n",
      "\u001b[1;32m~\\anaconda4\\envs\\PythonData\\lib\\site-packages\\pandas\\io\\parsers.py\u001b[0m in \u001b[0;36m_make_engine\u001b[1;34m(self, engine)\u001b[0m\n\u001b[0;32m   1112\u001b[0m     \u001b[1;32mdef\u001b[0m \u001b[0m_make_engine\u001b[0m\u001b[1;33m(\u001b[0m\u001b[0mself\u001b[0m\u001b[1;33m,\u001b[0m \u001b[0mengine\u001b[0m\u001b[1;33m=\u001b[0m\u001b[1;34m\"c\"\u001b[0m\u001b[1;33m)\u001b[0m\u001b[1;33m:\u001b[0m\u001b[1;33m\u001b[0m\u001b[1;33m\u001b[0m\u001b[0m\n\u001b[0;32m   1113\u001b[0m         \u001b[1;32mif\u001b[0m \u001b[0mengine\u001b[0m \u001b[1;33m==\u001b[0m \u001b[1;34m\"c\"\u001b[0m\u001b[1;33m:\u001b[0m\u001b[1;33m\u001b[0m\u001b[1;33m\u001b[0m\u001b[0m\n\u001b[1;32m-> 1114\u001b[1;33m             \u001b[0mself\u001b[0m\u001b[1;33m.\u001b[0m\u001b[0m_engine\u001b[0m \u001b[1;33m=\u001b[0m \u001b[0mCParserWrapper\u001b[0m\u001b[1;33m(\u001b[0m\u001b[0mself\u001b[0m\u001b[1;33m.\u001b[0m\u001b[0mf\u001b[0m\u001b[1;33m,\u001b[0m \u001b[1;33m**\u001b[0m\u001b[0mself\u001b[0m\u001b[1;33m.\u001b[0m\u001b[0moptions\u001b[0m\u001b[1;33m)\u001b[0m\u001b[1;33m\u001b[0m\u001b[1;33m\u001b[0m\u001b[0m\n\u001b[0m\u001b[0;32m   1115\u001b[0m         \u001b[1;32melse\u001b[0m\u001b[1;33m:\u001b[0m\u001b[1;33m\u001b[0m\u001b[1;33m\u001b[0m\u001b[0m\n\u001b[0;32m   1116\u001b[0m             \u001b[1;32mif\u001b[0m \u001b[0mengine\u001b[0m \u001b[1;33m==\u001b[0m \u001b[1;34m\"python\"\u001b[0m\u001b[1;33m:\u001b[0m\u001b[1;33m\u001b[0m\u001b[1;33m\u001b[0m\u001b[0m\n",
      "\u001b[1;32m~\\anaconda4\\envs\\PythonData\\lib\\site-packages\\pandas\\io\\parsers.py\u001b[0m in \u001b[0;36m__init__\u001b[1;34m(self, src, **kwds)\u001b[0m\n\u001b[0;32m   1889\u001b[0m         \u001b[0mkwds\u001b[0m\u001b[1;33m[\u001b[0m\u001b[1;34m\"usecols\"\u001b[0m\u001b[1;33m]\u001b[0m \u001b[1;33m=\u001b[0m \u001b[0mself\u001b[0m\u001b[1;33m.\u001b[0m\u001b[0musecols\u001b[0m\u001b[1;33m\u001b[0m\u001b[1;33m\u001b[0m\u001b[0m\n\u001b[0;32m   1890\u001b[0m \u001b[1;33m\u001b[0m\u001b[0m\n\u001b[1;32m-> 1891\u001b[1;33m         \u001b[0mself\u001b[0m\u001b[1;33m.\u001b[0m\u001b[0m_reader\u001b[0m \u001b[1;33m=\u001b[0m \u001b[0mparsers\u001b[0m\u001b[1;33m.\u001b[0m\u001b[0mTextReader\u001b[0m\u001b[1;33m(\u001b[0m\u001b[0msrc\u001b[0m\u001b[1;33m,\u001b[0m \u001b[1;33m**\u001b[0m\u001b[0mkwds\u001b[0m\u001b[1;33m)\u001b[0m\u001b[1;33m\u001b[0m\u001b[1;33m\u001b[0m\u001b[0m\n\u001b[0m\u001b[0;32m   1892\u001b[0m         \u001b[0mself\u001b[0m\u001b[1;33m.\u001b[0m\u001b[0munnamed_cols\u001b[0m \u001b[1;33m=\u001b[0m \u001b[0mself\u001b[0m\u001b[1;33m.\u001b[0m\u001b[0m_reader\u001b[0m\u001b[1;33m.\u001b[0m\u001b[0munnamed_cols\u001b[0m\u001b[1;33m\u001b[0m\u001b[1;33m\u001b[0m\u001b[0m\n\u001b[0;32m   1893\u001b[0m \u001b[1;33m\u001b[0m\u001b[0m\n",
      "\u001b[1;32mpandas\\_libs\\parsers.pyx\u001b[0m in \u001b[0;36mpandas._libs.parsers.TextReader.__cinit__\u001b[1;34m()\u001b[0m\n",
      "\u001b[1;32mpandas\\_libs\\parsers.pyx\u001b[0m in \u001b[0;36mpandas._libs.parsers.TextReader._setup_parser_source\u001b[1;34m()\u001b[0m\n",
      "\u001b[1;31mFileNotFoundError\u001b[0m: [Errno 2] File weekly_housing_market_data_most_recent.tsv does not exist: 'weekly_housing_market_data_most_recent.tsv'"
     ]
    }
   ],
   "source": [
    "data_df = pd.read_csv('weekly_housing_market_data_most_recent.tsv',)"
   ]
  },
  {
   "cell_type": "code",
   "execution_count": 4,
   "metadata": {},
   "outputs": [
    {
     "data": {
      "text/html": [
       "<div>\n",
       "<style scoped>\n",
       "    .dataframe tbody tr th:only-of-type {\n",
       "        vertical-align: middle;\n",
       "    }\n",
       "\n",
       "    .dataframe tbody tr th {\n",
       "        vertical-align: top;\n",
       "    }\n",
       "\n",
       "    .dataframe thead th {\n",
       "        text-align: right;\n",
       "    }\n",
       "</style>\n",
       "<table border=\"1\" class=\"dataframe\">\n",
       "  <thead>\n",
       "    <tr style=\"text-align: right;\">\n",
       "      <th></th>\n",
       "      <th>region_id\\tregion_type_id\\tregion_name\\tregion_type\\tperiod_begin\\tperiod_end\\tduration\\ttotal_homes_sold\\ttotal_homes_sold_yoy\\taverage_homes_sold\\taverage_homes_sold_yoy\\ttotal_homes_sold_with_price_drops\\ttotal_homes_sold_with_price_drops_yoy\\taverage_homes_sold_with_price_drops\\taverage_homes_sold_with_price_drops_yoy\\tpercent_homes_sold_with_price_drops\\tpercent_homes_sold_with_price_drops_yoy\\tmedian_sale_price\\tmedian_sale_price_yoy\\tmedian_sale_ppsf\\tmedian_sale_ppsf_yoy\\tmedian_days_to_close\\tmedian_days_to_close_yoy\\tprice_drops\\tprice_drops_yoy\\tpercent_active_listings_with_price_drops\\tpercent_active_listings_with_price_drops_yoy\\tpending_sales\\tpending_sales_yoy\\tmedian_pending_sqft\\tmedian_pending_sqft_yoy\\toff_market_in_two_weeks\\toff_market_in_two_weeks_yoy\\tpercent_off_market_in_two_weeks\\tpercent_off_market_in_two_weeks_yoy\\ttotal_new_listings\\ttotal_new_listings_yoy\\taverage_new_listings\\taverage_new_listings_yoy\\tmedian_new_listing_price\\tmedian_new_listing_price_yoy\\tmedian_new_listing_ppsf\\tmedian_new_listing_ppsf_yoy\\tinventory\\tinventory_yoy\\ttotal_active_listings\\ttotal_active_listings_yoy\\tactive_listings\\tactive_listings_yoy\\tage_of_inventory\\tage_of_inventory_yoy\\thomes_delisted\\thomes_delisted_yoy\\tpercent_active_listings_delisted\\tpercent_active_listings_delisted_yoy\\tmedian_active_list_price\\tmedian_active_list_price_yoy\\tmedian_active_list_ppsf\\tmedian_active_list_ppsf_yoy\\taverage_of_median_list_price_amount\\taverage_of_median_list_price_amount_yoy\\taverage_of_median_offer_price_amount\\taverage_of_median_offer_price_amount_yoy\\tavg_offer_to_list\\tavg_offer_to_list_yoy\\taverage_sale_to_list_ratio\\taverage_sale_to_list_ratio_yoy\\tmedian_days_on_market\\tmedian_days_on_market_yoy\\tpending_sales_to_sales_ratio\\tpending_sales_to_sales_ratio_yoy\\tmonths_of_supply\\tmonths_of_supply_yoy\\taverage_pending_sales_listing_updates\\taverage_pending_sales_listing_updates_yoy\\tpercent_total_price_drops_of_inventory\\tpercent_total_price_drops_of_inventory_yoy\\tlast_updated</th>\n",
       "    </tr>\n",
       "  </thead>\n",
       "  <tbody>\n",
       "    <tr>\n",
       "      <th>25540\\t-2\\tHartford</th>\n",
       "      <td>CT metro area\\tmetro\\t2018-06-11\\t2018-06-17\\...</td>\n",
       "    </tr>\n",
       "    <tr>\n",
       "      <th>257\\t5\\tHot Spring County</th>\n",
       "      <td>AR\\tcounty\\t2018-03-05\\t2018-03-11\\t1 weeks\\t...</td>\n",
       "    </tr>\n",
       "    <tr>\n",
       "      <th>25540\\t-2\\tHartford</th>\n",
       "      <td>CT metro area\\tmetro\\t2018-07-23\\t2018-07-29\\...</td>\n",
       "    </tr>\n",
       "    <tr>\n",
       "      <th>25540\\t-2\\tHartford</th>\n",
       "      <td>CT metro area\\tmetro\\t2020-12-14\\t2020-12-20\\...</td>\n",
       "    </tr>\n",
       "    <tr>\n",
       "      <th>816\\t5\\tBartholomew County</th>\n",
       "      <td>IN\\tcounty\\t2017-01-09\\t2017-01-15\\t1 weeks\\t...</td>\n",
       "    </tr>\n",
       "  </tbody>\n",
       "</table>\n",
       "</div>"
      ],
      "text/plain": [
       "                           region_id\\tregion_type_id\\tregion_name\\tregion_type\\tperiod_begin\\tperiod_end\\tduration\\ttotal_homes_sold\\ttotal_homes_sold_yoy\\taverage_homes_sold\\taverage_homes_sold_yoy\\ttotal_homes_sold_with_price_drops\\ttotal_homes_sold_with_price_drops_yoy\\taverage_homes_sold_with_price_drops\\taverage_homes_sold_with_price_drops_yoy\\tpercent_homes_sold_with_price_drops\\tpercent_homes_sold_with_price_drops_yoy\\tmedian_sale_price\\tmedian_sale_price_yoy\\tmedian_sale_ppsf\\tmedian_sale_ppsf_yoy\\tmedian_days_to_close\\tmedian_days_to_close_yoy\\tprice_drops\\tprice_drops_yoy\\tpercent_active_listings_with_price_drops\\tpercent_active_listings_with_price_drops_yoy\\tpending_sales\\tpending_sales_yoy\\tmedian_pending_sqft\\tmedian_pending_sqft_yoy\\toff_market_in_two_weeks\\toff_market_in_two_weeks_yoy\\tpercent_off_market_in_two_weeks\\tpercent_off_market_in_two_weeks_yoy\\ttotal_new_listings\\ttotal_new_listings_yoy\\taverage_new_listings\\taverage_new_listings_yoy\\tmedian_new_listing_price\\tmedian_new_listing_price_yoy\\tmedian_new_listing_ppsf\\tmedian_new_listing_ppsf_yoy\\tinventory\\tinventory_yoy\\ttotal_active_listings\\ttotal_active_listings_yoy\\tactive_listings\\tactive_listings_yoy\\tage_of_inventory\\tage_of_inventory_yoy\\thomes_delisted\\thomes_delisted_yoy\\tpercent_active_listings_delisted\\tpercent_active_listings_delisted_yoy\\tmedian_active_list_price\\tmedian_active_list_price_yoy\\tmedian_active_list_ppsf\\tmedian_active_list_ppsf_yoy\\taverage_of_median_list_price_amount\\taverage_of_median_list_price_amount_yoy\\taverage_of_median_offer_price_amount\\taverage_of_median_offer_price_amount_yoy\\tavg_offer_to_list\\tavg_offer_to_list_yoy\\taverage_sale_to_list_ratio\\taverage_sale_to_list_ratio_yoy\\tmedian_days_on_market\\tmedian_days_on_market_yoy\\tpending_sales_to_sales_ratio\\tpending_sales_to_sales_ratio_yoy\\tmonths_of_supply\\tmonths_of_supply_yoy\\taverage_pending_sales_listing_updates\\taverage_pending_sales_listing_updates_yoy\\tpercent_total_price_drops_of_inventory\\tpercent_total_price_drops_of_inventory_yoy\\tlast_updated\n",
       "25540\\t-2\\tHartford          CT metro area\\tmetro\\t2018-06-11\\t2018-06-17\\...                                                                                                                                                                                                                                                                                                                                                                                                                                                                                                                                                                                                                                                                                                                                                                                                                                                                                                                                                                                                                                                                                                                                                                                                                                                                                                                                                                                                                                                                                                                                                                                                                                                                                                                                                                                                                                                                                                                                                                                                                                                   \n",
       "257\\t5\\tHot Spring County    AR\\tcounty\\t2018-03-05\\t2018-03-11\\t1 weeks\\t...                                                                                                                                                                                                                                                                                                                                                                                                                                                                                                                                                                                                                                                                                                                                                                                                                                                                                                                                                                                                                                                                                                                                                                                                                                                                                                                                                                                                                                                                                                                                                                                                                                                                                                                                                                                                                                                                                                                                                                                                                                                   \n",
       "25540\\t-2\\tHartford          CT metro area\\tmetro\\t2018-07-23\\t2018-07-29\\...                                                                                                                                                                                                                                                                                                                                                                                                                                                                                                                                                                                                                                                                                                                                                                                                                                                                                                                                                                                                                                                                                                                                                                                                                                                                                                                                                                                                                                                                                                                                                                                                                                                                                                                                                                                                                                                                                                                                                                                                                                                   \n",
       "25540\\t-2\\tHartford          CT metro area\\tmetro\\t2020-12-14\\t2020-12-20\\...                                                                                                                                                                                                                                                                                                                                                                                                                                                                                                                                                                                                                                                                                                                                                                                                                                                                                                                                                                                                                                                                                                                                                                                                                                                                                                                                                                                                                                                                                                                                                                                                                                                                                                                                                                                                                                                                                                                                                                                                                                                   \n",
       "816\\t5\\tBartholomew County   IN\\tcounty\\t2017-01-09\\t2017-01-15\\t1 weeks\\t...                                                                                                                                                                                                                                                                                                                                                                                                                                                                                                                                                                                                                                                                                                                                                                                                                                                                                                                                                                                                                                                                                                                                                                                                                                                                                                                                                                                                                                                                                                                                                                                                                                                                                                                                                                                                                                                                                                                                                                                                                                                   "
      ]
     },
     "execution_count": 4,
     "metadata": {},
     "output_type": "execute_result"
    }
   ],
   "source": [
    "data_df.head()"
   ]
  },
  {
   "cell_type": "code",
   "execution_count": 5,
   "metadata": {},
   "outputs": [],
   "source": [
    "import csv\n",
    "tsv_file = open(\"weekly_housing_market_data_most_recent.tsv\")\n",
    "read_tsv = csv.reader(tsv_file, delimiter=\"\\t\")"
   ]
  },
  {
   "cell_type": "code",
   "execution_count": 6,
   "metadata": {},
   "outputs": [],
   "source": [
    "\n",
    "data_df = pd.DataFrame(read_tsv)\n",
    "header = 0\n",
    "data_df.columns = data_df.iloc[header]\n",
    "data_df = data_df.drop(header)"
   ]
  },
  {
   "cell_type": "code",
   "execution_count": 12,
   "metadata": {},
   "outputs": [
    {
     "data": {
      "text/plain": [
       "986512"
      ]
     },
     "execution_count": 12,
     "metadata": {},
     "output_type": "execute_result"
    }
   ],
   "source": [
    "len(data_df)"
   ]
  },
  {
   "cell_type": "code",
   "execution_count": 8,
   "metadata": {},
   "outputs": [
    {
     "data": {
      "text/plain": [
       "Int64Index([     1,      2,      3,      4,      5,      6,      7,      8,\n",
       "                 9,     10,\n",
       "            ...\n",
       "            986503, 986504, 986505, 986506, 986507, 986508, 986509, 986510,\n",
       "            986511, 986512],\n",
       "           dtype='int64', length=986512)"
      ]
     },
     "execution_count": 8,
     "metadata": {},
     "output_type": "execute_result"
    }
   ],
   "source": [
    "data_df.index"
   ]
  },
  {
   "cell_type": "code",
   "execution_count": 9,
   "metadata": {},
   "outputs": [
    {
     "data": {
      "text/plain": [
       "Index(['region_id', 'region_type_id', 'region_name', 'region_type',\n",
       "       'period_begin', 'period_end', 'duration', 'total_homes_sold',\n",
       "       'total_homes_sold_yoy', 'average_homes_sold', 'average_homes_sold_yoy',\n",
       "       'total_homes_sold_with_price_drops',\n",
       "       'total_homes_sold_with_price_drops_yoy',\n",
       "       'average_homes_sold_with_price_drops',\n",
       "       'average_homes_sold_with_price_drops_yoy',\n",
       "       'percent_homes_sold_with_price_drops',\n",
       "       'percent_homes_sold_with_price_drops_yoy', 'median_sale_price',\n",
       "       'median_sale_price_yoy', 'median_sale_ppsf', 'median_sale_ppsf_yoy',\n",
       "       'median_days_to_close', 'median_days_to_close_yoy', 'price_drops',\n",
       "       'price_drops_yoy', 'percent_active_listings_with_price_drops',\n",
       "       'percent_active_listings_with_price_drops_yoy', 'pending_sales',\n",
       "       'pending_sales_yoy', 'median_pending_sqft', 'median_pending_sqft_yoy',\n",
       "       'off_market_in_two_weeks', 'off_market_in_two_weeks_yoy',\n",
       "       'percent_off_market_in_two_weeks',\n",
       "       'percent_off_market_in_two_weeks_yoy', 'total_new_listings',\n",
       "       'total_new_listings_yoy', 'average_new_listings',\n",
       "       'average_new_listings_yoy', 'median_new_listing_price',\n",
       "       'median_new_listing_price_yoy', 'median_new_listing_ppsf',\n",
       "       'median_new_listing_ppsf_yoy', 'inventory', 'inventory_yoy',\n",
       "       'total_active_listings', 'total_active_listings_yoy', 'active_listings',\n",
       "       'active_listings_yoy', 'age_of_inventory', 'age_of_inventory_yoy',\n",
       "       'homes_delisted', 'homes_delisted_yoy',\n",
       "       'percent_active_listings_delisted',\n",
       "       'percent_active_listings_delisted_yoy', 'median_active_list_price',\n",
       "       'median_active_list_price_yoy', 'median_active_list_ppsf',\n",
       "       'median_active_list_ppsf_yoy', 'average_of_median_list_price_amount',\n",
       "       'average_of_median_list_price_amount_yoy',\n",
       "       'average_of_median_offer_price_amount',\n",
       "       'average_of_median_offer_price_amount_yoy', 'avg_offer_to_list',\n",
       "       'avg_offer_to_list_yoy', 'average_sale_to_list_ratio',\n",
       "       'average_sale_to_list_ratio_yoy', 'median_days_on_market',\n",
       "       'median_days_on_market_yoy', 'pending_sales_to_sales_ratio',\n",
       "       'pending_sales_to_sales_ratio_yoy', 'months_of_supply',\n",
       "       'months_of_supply_yoy', 'average_pending_sales_listing_updates',\n",
       "       'average_pending_sales_listing_updates_yoy',\n",
       "       'percent_total_price_drops_of_inventory',\n",
       "       'percent_total_price_drops_of_inventory_yoy', 'last_updated'],\n",
       "      dtype='object', name=0)"
      ]
     },
     "execution_count": 9,
     "metadata": {},
     "output_type": "execute_result"
    }
   ],
   "source": [
    "data_df.columns"
   ]
  },
  {
   "cell_type": "code",
   "execution_count": 19,
   "metadata": {
    "scrolled": true
   },
   "outputs": [
    {
     "data": {
      "text/html": [
       "<div>\n",
       "<style scoped>\n",
       "    .dataframe tbody tr th:only-of-type {\n",
       "        vertical-align: middle;\n",
       "    }\n",
       "\n",
       "    .dataframe tbody tr th {\n",
       "        vertical-align: top;\n",
       "    }\n",
       "\n",
       "    .dataframe thead th {\n",
       "        text-align: right;\n",
       "    }\n",
       "</style>\n",
       "<table border=\"1\" class=\"dataframe\">\n",
       "  <thead>\n",
       "    <tr style=\"text-align: right;\">\n",
       "      <th></th>\n",
       "      <th>region_id</th>\n",
       "      <th>region_type_id</th>\n",
       "      <th>region_name</th>\n",
       "      <th>region_type</th>\n",
       "      <th>period_begin</th>\n",
       "      <th>period_end</th>\n",
       "      <th>duration</th>\n",
       "      <th>total_homes_sold</th>\n",
       "      <th>total_homes_sold_yoy</th>\n",
       "      <th>average_homes_sold</th>\n",
       "      <th>...</th>\n",
       "      <th>median_sale_price</th>\n",
       "      <th>median_sale_price_yoy</th>\n",
       "      <th>median_sale_ppsf</th>\n",
       "      <th>median_sale_ppsf_yoy</th>\n",
       "      <th>median_days_to_close</th>\n",
       "      <th>median_days_to_close_yoy</th>\n",
       "      <th>price_drops</th>\n",
       "      <th>price_drops_yoy</th>\n",
       "      <th>percent_active_listings_with_price_drops</th>\n",
       "      <th>percent_active_listings_with_price_drops_yoy</th>\n",
       "    </tr>\n",
       "  </thead>\n",
       "  <tbody>\n",
       "    <tr>\n",
       "      <th>1</th>\n",
       "      <td>25540</td>\n",
       "      <td>-2</td>\n",
       "      <td>Hartford, CT metro area</td>\n",
       "      <td>metro</td>\n",
       "      <td>2018-06-11</td>\n",
       "      <td>2018-06-17</td>\n",
       "      <td>1 weeks</td>\n",
       "      <td>403.0</td>\n",
       "      <td>0.09214092140921416</td>\n",
       "      <td>403.0</td>\n",
       "      <td>...</td>\n",
       "      <td>235000.0</td>\n",
       "      <td>-0.008438818565400852</td>\n",
       "      <td>132.59668508287294</td>\n",
       "      <td>-0.03313151995481245</td>\n",
       "      <td>14.0</td>\n",
       "      <td>-27.0</td>\n",
       "      <td>344.0</td>\n",
       "      <td></td>\n",
       "      <td>0.04813208339163285</td>\n",
       "      <td></td>\n",
       "    </tr>\n",
       "    <tr>\n",
       "      <th>2</th>\n",
       "      <td>257</td>\n",
       "      <td>5</td>\n",
       "      <td>Hot Spring County, AR</td>\n",
       "      <td>county</td>\n",
       "      <td>2018-03-05</td>\n",
       "      <td>2018-03-11</td>\n",
       "      <td>1 weeks</td>\n",
       "      <td>6.0</td>\n",
       "      <td>0.5</td>\n",
       "      <td>6.0</td>\n",
       "      <td>...</td>\n",
       "      <td>92450.0</td>\n",
       "      <td>-0.4284389489953632</td>\n",
       "      <td>51.97222693261547</td>\n",
       "      <td>-0.34325588970083293</td>\n",
       "      <td>0.0</td>\n",
       "      <td>-1.0</td>\n",
       "      <td>4.0</td>\n",
       "      <td>-0.4285714285714286</td>\n",
       "      <td>0.03883495145631068</td>\n",
       "      <td>-0.021509876129896226</td>\n",
       "    </tr>\n",
       "    <tr>\n",
       "      <th>3</th>\n",
       "      <td>25540</td>\n",
       "      <td>-2</td>\n",
       "      <td>Hartford, CT metro area</td>\n",
       "      <td>metro</td>\n",
       "      <td>2018-07-23</td>\n",
       "      <td>2018-07-29</td>\n",
       "      <td>1 weeks</td>\n",
       "      <td>406.0</td>\n",
       "      <td>-0.1697341513292433</td>\n",
       "      <td>406.0</td>\n",
       "      <td>...</td>\n",
       "      <td>230000.0</td>\n",
       "      <td>0.04545454545454541</td>\n",
       "      <td>135.9103714433537</td>\n",
       "      <td>0.0006468781964847903</td>\n",
       "      <td>16.0</td>\n",
       "      <td>2.0</td>\n",
       "      <td>326.0</td>\n",
       "      <td></td>\n",
       "      <td>0.04681889989946862</td>\n",
       "      <td></td>\n",
       "    </tr>\n",
       "    <tr>\n",
       "      <th>4</th>\n",
       "      <td>25540</td>\n",
       "      <td>-2</td>\n",
       "      <td>Hartford, CT metro area</td>\n",
       "      <td>metro</td>\n",
       "      <td>2020-12-14</td>\n",
       "      <td>2020-12-20</td>\n",
       "      <td>1 weeks</td>\n",
       "      <td>440.0</td>\n",
       "      <td>0.17647058823529416</td>\n",
       "      <td>440.0</td>\n",
       "      <td>...</td>\n",
       "      <td>261750.0</td>\n",
       "      <td>0.16592427616926494</td>\n",
       "      <td>142.61102770530553</td>\n",
       "      <td>0.10200250710754566</td>\n",
       "      <td>12.0</td>\n",
       "      <td>-0.5</td>\n",
       "      <td>80.0</td>\n",
       "      <td>-0.2452830188679245</td>\n",
       "      <td>0.02314145212612092</td>\n",
       "      <td>0.001657868826566801</td>\n",
       "    </tr>\n",
       "    <tr>\n",
       "      <th>5</th>\n",
       "      <td>816</td>\n",
       "      <td>5</td>\n",
       "      <td>Bartholomew County, IN</td>\n",
       "      <td>county</td>\n",
       "      <td>2017-01-09</td>\n",
       "      <td>2017-01-15</td>\n",
       "      <td>1 weeks</td>\n",
       "      <td>14.0</td>\n",
       "      <td>-0.125</td>\n",
       "      <td>14.0</td>\n",
       "      <td>...</td>\n",
       "      <td>199200.0</td>\n",
       "      <td>0.6334563345633457</td>\n",
       "      <td>77.39015757646585</td>\n",
       "      <td>0.09830140951184953</td>\n",
       "      <td>0.0</td>\n",
       "      <td>0.0</td>\n",
       "      <td></td>\n",
       "      <td></td>\n",
       "      <td></td>\n",
       "      <td></td>\n",
       "    </tr>\n",
       "  </tbody>\n",
       "</table>\n",
       "<p>5 rows × 27 columns</p>\n",
       "</div>"
      ],
      "text/plain": [
       "0 region_id region_type_id              region_name region_type period_begin  \\\n",
       "1     25540             -2  Hartford, CT metro area       metro   2018-06-11   \n",
       "2       257              5    Hot Spring County, AR      county   2018-03-05   \n",
       "3     25540             -2  Hartford, CT metro area       metro   2018-07-23   \n",
       "4     25540             -2  Hartford, CT metro area       metro   2020-12-14   \n",
       "5       816              5   Bartholomew County, IN      county   2017-01-09   \n",
       "\n",
       "0  period_end duration total_homes_sold total_homes_sold_yoy  \\\n",
       "1  2018-06-17  1 weeks            403.0  0.09214092140921416   \n",
       "2  2018-03-11  1 weeks              6.0                  0.5   \n",
       "3  2018-07-29  1 weeks            406.0  -0.1697341513292433   \n",
       "4  2020-12-20  1 weeks            440.0  0.17647058823529416   \n",
       "5  2017-01-15  1 weeks             14.0               -0.125   \n",
       "\n",
       "0 average_homes_sold  ... median_sale_price  median_sale_price_yoy  \\\n",
       "1              403.0  ...          235000.0  -0.008438818565400852   \n",
       "2                6.0  ...           92450.0    -0.4284389489953632   \n",
       "3              406.0  ...          230000.0    0.04545454545454541   \n",
       "4              440.0  ...          261750.0    0.16592427616926494   \n",
       "5               14.0  ...          199200.0     0.6334563345633457   \n",
       "\n",
       "0    median_sale_ppsf   median_sale_ppsf_yoy median_days_to_close  \\\n",
       "1  132.59668508287294   -0.03313151995481245                 14.0   \n",
       "2   51.97222693261547   -0.34325588970083293                  0.0   \n",
       "3   135.9103714433537  0.0006468781964847903                 16.0   \n",
       "4  142.61102770530553    0.10200250710754566                 12.0   \n",
       "5   77.39015757646585    0.09830140951184953                  0.0   \n",
       "\n",
       "0 median_days_to_close_yoy price_drops      price_drops_yoy  \\\n",
       "1                    -27.0       344.0                        \n",
       "2                     -1.0         4.0  -0.4285714285714286   \n",
       "3                      2.0       326.0                        \n",
       "4                     -0.5        80.0  -0.2452830188679245   \n",
       "5                      0.0                                    \n",
       "\n",
       "0 percent_active_listings_with_price_drops  \\\n",
       "1                      0.04813208339163285   \n",
       "2                      0.03883495145631068   \n",
       "3                      0.04681889989946862   \n",
       "4                      0.02314145212612092   \n",
       "5                                            \n",
       "\n",
       "0 percent_active_listings_with_price_drops_yoy  \n",
       "1                                               \n",
       "2                        -0.021509876129896226  \n",
       "3                                               \n",
       "4                         0.001657868826566801  \n",
       "5                                               \n",
       "\n",
       "[5 rows x 27 columns]"
      ]
     },
     "execution_count": 19,
     "metadata": {},
     "output_type": "execute_result"
    }
   ],
   "source": [
    "cleaned_data_df = data_df[['region_id', 'region_type_id', 'region_name', 'region_type',\n",
    "       'period_begin', 'period_end', 'duration', 'total_homes_sold',\n",
    "       'total_homes_sold_yoy', 'average_homes_sold', 'average_homes_sold_yoy',\n",
    "       'total_homes_sold_with_price_drops',\n",
    "       'total_homes_sold_with_price_drops_yoy',\n",
    "       'average_homes_sold_with_price_drops',\n",
    "       'average_homes_sold_with_price_drops_yoy',\n",
    "       'percent_homes_sold_with_price_drops',\n",
    "       'percent_homes_sold_with_price_drops_yoy', 'median_sale_price',\n",
    "       'median_sale_price_yoy', 'median_sale_ppsf', 'median_sale_ppsf_yoy',\n",
    "       'median_days_to_close', 'median_days_to_close_yoy', 'price_drops',\n",
    "       'price_drops_yoy', 'percent_active_listings_with_price_drops',\n",
    "       'percent_active_listings_with_price_drops_yoy']]\n",
    "cleaned_data_df.head()"
   ]
  },
  {
   "cell_type": "code",
   "execution_count": 20,
   "metadata": {},
   "outputs": [],
   "source": [
    "cleaned_data_df.to_csv('cleaned_data_covid_housing.csv')"
   ]
  },
  {
   "cell_type": "code",
   "execution_count": 28,
   "metadata": {},
   "outputs": [],
   "source": [
    "# data_df_2019 = data_df[(data_df['period_begin']>='2019-01-01']) & (data_df['period_end']>='2020-01-01')]\n",
    "cleaned_data_df_2018 = cleaned_data_df[cleaned_data_df['period_begin']>='2018-01-01']"
   ]
  },
  {
   "cell_type": "code",
   "execution_count": 29,
   "metadata": {},
   "outputs": [
    {
     "data": {
      "text/plain": [
       "735639"
      ]
     },
     "execution_count": 29,
     "metadata": {},
     "output_type": "execute_result"
    }
   ],
   "source": [
    "len(cleaned_data_df_2018)"
   ]
  },
  {
   "cell_type": "code",
   "execution_count": 30,
   "metadata": {},
   "outputs": [],
   "source": [
    "cleaned_data_df_2018.to_csv('covid_housing_data_2018.csv')"
   ]
  },
  {
   "cell_type": "code",
   "execution_count": null,
   "metadata": {},
   "outputs": [],
   "source": []
  }
 ],
 "metadata": {
  "kernelspec": {
   "display_name": "Python [conda env:PythonData] *",
   "language": "python",
   "name": "conda-env-PythonData-py"
  },
  "language_info": {
   "codemirror_mode": {
    "name": "ipython",
    "version": 3
   },
   "file_extension": ".py",
   "mimetype": "text/x-python",
   "name": "python",
   "nbconvert_exporter": "python",
   "pygments_lexer": "ipython3",
   "version": "3.6.10"
  }
 },
 "nbformat": 4,
 "nbformat_minor": 4
}
